{
 "cells": [
  {
   "cell_type": "code",
   "execution_count": 18,
   "metadata": {},
   "outputs": [],
   "source": [
    "import os\n",
    "import sys\n",
    "import glob\n",
    "import cv2\n",
    "import matplotlib.pyplot as plt # 주피터 환경에서 이미지 열어주는거\n",
    "import numpy as np"
   ]
  },
  {
   "cell_type": "code",
   "execution_count": 19,
   "metadata": {},
   "outputs": [
    {
     "name": "stdout",
     "output_type": "stream",
     "text": [
      "(39, 32256)\n"
     ]
    }
   ],
   "source": [
    "# 이미지를 전부 읽어와서 하나로 합친다.\n",
    "\n",
    "image = cv2.imread('faces_training/face01.pgm', cv2.IMREAD_GRAYSCALE)\n",
    "\n",
    "length, height = image.shape\n",
    "image = image.reshape((1, length * height * 1))\n",
    "\n",
    "for i in range(2,10):\n",
    "    x = cv2.imread(f'faces_training/face0{i}.pgm', cv2.IMREAD_GRAYSCALE)\n",
    "    temp = x.reshape((1, length * height * 1))\n",
    "    image = np.concatenate([image, temp], axis=0)\n",
    "    \n",
    "for i in range(10,40):\n",
    "    x = cv2.imread(f'faces_training/face{i}.pgm', cv2.IMREAD_GRAYSCALE)\n",
    "    temp = x.reshape((1, length * height * 1))\n",
    "    # print(temp.shape)\n",
    "    image = np.concatenate([image, temp], axis=0)\n",
    "\n",
    "# image = np.concatenate([x,y,z], axis=0)\n",
    "print(image.shape)"
   ]
  },
  {
   "cell_type": "code",
   "execution_count": 33,
   "metadata": {},
   "outputs": [
    {
     "name": "stdout",
     "output_type": "stream",
     "text": [
      "####### Step1 ####\n",
      "확률 :  0.905563868005771\n",
      "전체 차원 수  39\n",
      "선택된 차원 수  17\n",
      "Input Percentage: 0.9\n",
      "Selected Dimansion : 17\n"
     ]
    }
   ],
   "source": [
    "print(\"####### Step1 ####\")\n",
    "    \n",
    "def computeDimensions(img, percent=0.9):\n",
    "    \n",
    "    # computing eigenvalues and eigenvectors of covariance matrix\n",
    "    matrix = (img - np.mean(img.T, axis=1)).T # subtract the mean (along columns)\n",
    "\n",
    "    [eigvals, eigvec] = np.linalg.eig(np.cov(img))\n",
    "    \n",
    "    whole_nom_of_pc = np.size(eigvec, axis=0)\n",
    "    \n",
    "    eigvals = sorted(eigvals)\n",
    "    eigvals = eigvals[::-1]\n",
    "    \n",
    "    sumvar = 0\n",
    "    ssum = 0\n",
    "    numPc=0\n",
    "    for i in range(whole_nom_of_pc):\n",
    "        sumvar += eigvals[i]\n",
    "        \n",
    "    for i in range(whole_nom_of_pc):\n",
    "        ssum += eigvals[i]\n",
    "        numPc += 1\n",
    "        # print(f\"현재 고유 값{i} : {eigvals[i]}\")\n",
    "        if(ssum/sumvar >= percent):\n",
    "            print(\"확률 : \",ssum/sumvar)\n",
    "            break\n",
    "    \n",
    "    print(\"전체 차원 수 \", whole_nom_of_pc)\n",
    "    print(\"선택된 차원 수 \", numPc)    \n",
    "    return numPc\n",
    "    \n",
    "perc = 0.9\n",
    "numPc = computeDimensions(image, perc)\n",
    "# print(f\"nput Percentage: {sys.argv[1]}\")\n",
    "print(f\"Input Percentage: {perc}\")\n",
    "print(f\"Selected Dimansion : {numPc}\")\n",
    "    "
   ]
  },
  {
   "cell_type": "code",
   "execution_count": 39,
   "metadata": {},
   "outputs": [],
   "source": [
    "# for step2,\n",
    "# reconsturct 함수\n",
    "def princomp(img, pc_limit=0):\n",
    "\n",
    "    # computing eigenvalues and eigenvectors of covariance matrix\n",
    "    matrix = (img - np.mean(img.T, axis=1)).T # subtract the mean (along columns)\n",
    "    \n",
    "    [eigvals,eigvecs] = np.linalg.eig(np.cov(matrix))\n",
    "    \n",
    "    whole_num_pc = np.size(eigvecs,axis=1)\n",
    "\n",
    "    sortEigvals = sorted(eigvals) # 고유값을 정렬한다.\n",
    "    sortEigvals = sortEigvals[::-1]       # in ascending order. 순서를 높은게 앞에 오도록 변경\n",
    "    # sorting eigenvectors according to the sorted eigenvalues\n",
    "    # 고유값이 정렬된 순서에 따라 대응하는 고유벡터들도 정렬한다.\n",
    "    # coeff = coeff[:,sortEigvals]\n",
    "    \n",
    "    # eigvals = eigvals[sortEigvals] # sorting eigenvalues\n",
    "    if pc_limit < whole_num_pc and pc_limit >= 0:\n",
    "        eigvecs = eigvecs[:,range(pc_limit)] # 입력된 pc 개수에 따라 선택한다.\n",
    "        eigvals = eigvals[:pc_limit]\n",
    "        \n",
    "    score = np.dot(eigvecs.T,matrix) # projection of the data in the new space\n",
    "    final = np.dot(eigvecs, score).T + np.mean(img, axis=0)\n",
    "    return eigvecs,score,eigvals, final"
   ]
  },
  {
   "cell_type": "code",
   "execution_count": null,
   "metadata": {},
   "outputs": [],
   "source": [
    "aa, bb, cc, dd = princomp(train, numPc)\n"
   ]
  },
  {
   "cell_type": "code",
   "execution_count": 35,
   "metadata": {},
   "outputs": [
    {
     "name": "stdout",
     "output_type": "stream",
     "text": [
      "Reconstructed error :26.961\n",
      "Reconstructed error :18.4623\n",
      "Reconstructed error :28.0495\n",
      "Reconstructed error :15.0724\n",
      "Reconstructed error :36.1481\n",
      "Reconstructed error :32.8879\n",
      "Reconstructed error :18.3841\n",
      "Reconstructed error :22.8618\n",
      "Reconstructed error :21.7089\n",
      "Reconstructed error :36.6997\n",
      "Reconstructed error :22.6078\n",
      "Reconstructed error :28.3593\n",
      "Reconstructed error :25.5014\n",
      "Reconstructed error :25.3992\n",
      "Reconstructed error :27.9381\n",
      "Reconstructed error :27.0019\n",
      "Reconstructed error :27.3767\n",
      "Reconstructed error :19.7847\n",
      "Reconstructed error :21.6706\n",
      "Reconstructed error :15.4302\n",
      "Reconstructed error :28.1891\n",
      "Reconstructed error :40.1334\n",
      "Reconstructed error :24.1984\n",
      "Reconstructed error :18.6388\n",
      "Reconstructed error :28.5678\n",
      "Reconstructed error :25.5182\n",
      "Reconstructed error :30.5365\n",
      "Reconstructed error :28.9021\n",
      "Reconstructed error :37.2646\n",
      "Reconstructed error :25.709\n",
      "Reconstructed error :13.8933\n",
      "Reconstructed error :18.2358\n",
      "Reconstructed error :16.5066\n",
      "Reconstructed error :24.3526\n",
      "Reconstructed error :12.4164\n",
      "Reconstructed error :21.9518\n",
      "Reconstructed error :18.381\n",
      "Reconstructed error :15.7183\n",
      "Reconstructed error :21.4214\n"
     ]
    }
   ],
   "source": [
    "final_list = []\n",
    "\n",
    "for n in range(1,10):\n",
    "    train = cv2.imread(f'faces_training/face0{n}.pgm', cv2.IMREAD_GRAYSCALE)\n",
    "    \n",
    "    img = (train-np.mean(train.T,axis=1)) # subtract the mean (along columns)\n",
    "    \n",
    "    eigenvector, score, eigenvalue, final = princomp(train, numPc)\n",
    "    final_list.append(np.abs(final))\n",
    "        \n",
    "    error = train - np.abs(final)\n",
    "    row, col = error.shape\n",
    "    summ = 0\n",
    "    for i in range(row):\n",
    "        for j in range(col):\n",
    "            s = error[i][j]*error[i][j]\n",
    "            summ += s # 전체 합.\n",
    "\n",
    "    re_error = np.abs(summ/(row*col)) # 전체합을 n으로 나누고 복소수를 float으로 전환\n",
    "    print(f\"Reconstructed error :{round(re_error, 4)}\") # Reconstruction error 소숫점 4자리까지 보여짐\n",
    "\n",
    "for n in range(10,40):\n",
    "    train = cv2.imread(f'faces_training/face{n}.pgm', cv2.IMREAD_GRAYSCALE)\n",
    "    \n",
    "    img = (train-np.mean(train.T,axis=1)) # subtract the mean (along columns)\n",
    "    \n",
    "    eigenvector, score, eigenvalue, final = princomp(train, numPc)\n",
    "    \n",
    "    final_list.append(np.abs(final))\n",
    "        \n",
    "    error = train - final\n",
    "    row, col = error.shape\n",
    "    summ = 0\n",
    "    for i in range(row):\n",
    "        for j in range(col):\n",
    "            s = error[i][j]*error[i][j]\n",
    "            summ += s # 전체 합.\n",
    "\n",
    "    re_error = np.abs(summ/(row*col)) # 전체합을 n으로 나누고 복소수를 float으로 전환\n",
    "    print(f\"Reconstructed error :{round(re_error, 4)}\") # Reconstruction error 소숫점 4자리까지 보여짐\n",
    "    \n",
    "# final_list[0] 은 face01의 리컨스트럭션 이미지다."
   ]
  },
  {
   "cell_type": "code",
   "execution_count": 37,
   "metadata": {},
   "outputs": [
    {
     "name": "stdout",
     "output_type": "stream",
     "text": [
      "39\n",
      "(192, 168)\n",
      "[10194.024757260342, 11400.594922424594, 13730.507663490718, 6366.375050083323, 12052.80818294174, 9627.376602113805, 6942.848944230358, 5344.65209292415, 6790.782435888722, 14653.311147357785, 8750.398519991819, 8658.403024534471, 6253.014134530326, 19570.13881465617, 10145.610517188215, 13670.512445339076, 9096.58503143106, 7320.407340467659, 7758.927221063953, 6241.709673446033, 10804.01359583175, 7799.482656676752, 10249.11562134721, 8039.843476097336, 8586.323804823774, 10397.423852986474, 13576.34963314207, 12043.375892776361, 13882.457358278883, 6436.720178014432, 7180.386567293686, 6945.097718875871, 5320.824665099575, 10088.78852032175, 4778.200268883846, 10343.161906644998, 7804.733935600245, 5733.581546024112, 7477.762184570296]\n",
      "35\n"
     ]
    }
   ],
   "source": [
    "test01 = cv2.imread('faces_test/test05.pgm', cv2.IMREAD_GRAYSCALE)\n",
    "\n",
    "print(len(final_list))\n",
    "print(final_list[0].shape)\n",
    "\n",
    "row, col = test01.shape\n",
    "distances = []\n",
    "for n in range(39): \n",
    "    sum_of=0\n",
    "    for r in range(row):\n",
    "        for c in range(col):\n",
    "            sum_of += (test01[r][c]-final_list[n][r][c])**2\n",
    "    distances.append(np.sqrt(sum_of))\n",
    "\n",
    "print(distances)\n",
    "found = distances.index(min(distances)) + 1\n",
    "print(found)\n",
    "\n"
   ]
  },
  {
   "cell_type": "code",
   "execution_count": 38,
   "metadata": {},
   "outputs": [
    {
     "name": "stdout",
     "output_type": "stream",
     "text": [
      "39\n",
      "(192, 168)\n",
      "[10177.188597351014, 11383.765531408062, 13719.754759142279, 6335.929625798897, 12041.690800805633, 9605.792133725665, 6920.275176402257, 5314.727648888838, 6764.959424716961, 14642.808268977942, 8731.68261172445, 8643.653856410374, 6216.104630972558, 19557.151423926505, 10129.360402773558, 13654.437395715287, 9080.0951159361, 7294.526550517949, 7734.971275679983, 6212.865212924734, 10793.943559599024, 7780.633689628246, 10233.45625968381, 8017.262376093169, 8555.434526582103, 10375.052588677703, 13562.163144257776, 12029.434546277324, 13863.59275426519, 6409.523318721446, 7157.479257255784, 6917.982475828502, 5309.157709845788, 10070.935002124424, 4740.537336706653, 10327.23180828317, 7786.752096262586, 5700.638155158969, 7452.000617149532]\n",
      "35\n"
     ]
    }
   ],
   "source": [
    "test01 = cv2.imread('faces_test/test05.pgm', cv2.IMREAD_GRAYSCALE)\n",
    "\n",
    "eigenvector, score, eigenvalue, tf = princomp(test01, numPc)\n",
    "\n",
    "print(len(final_list))\n",
    "print(final_list[0].shape)\n",
    "\n",
    "row, col = test01.shape\n",
    "distances = []\n",
    "for n in range(39): \n",
    "    sum_of=0\n",
    "    for r in range(row):\n",
    "        for c in range(col):\n",
    "            sum_of += (tf[r][c]-final_list[n][r][c])**2\n",
    "    distances.append(np.sqrt(sum_of))\n",
    "\n",
    "print(distances)\n",
    "found = distances.index(min(distances)) + 1\n",
    "print(found)\n",
    "\n"
   ]
  },
  {
   "cell_type": "code",
   "execution_count": null,
   "metadata": {},
   "outputs": [],
   "source": []
  }
 ],
 "metadata": {
  "kernelspec": {
   "display_name": "Python 3",
   "language": "python",
   "name": "python3"
  },
  "language_info": {
   "codemirror_mode": {
    "name": "ipython",
    "version": 3
   },
   "file_extension": ".py",
   "mimetype": "text/x-python",
   "name": "python",
   "nbconvert_exporter": "python",
   "pygments_lexer": "ipython3",
   "version": "3.8.5"
  }
 },
 "nbformat": 4,
 "nbformat_minor": 4
}
