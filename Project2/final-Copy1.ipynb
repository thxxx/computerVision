{
 "cells": [
  {
   "cell_type": "code",
   "execution_count": 3,
   "metadata": {},
   "outputs": [],
   "source": [
    "import os\n",
    "import sys\n",
    "import glob\n",
    "import cv2\n",
    "import matplotlib.pyplot as plt # 주피터 환경에서 이미지 열어주는거\n",
    "import numpy as np"
   ]
  },
  {
   "cell_type": "code",
   "execution_count": 4,
   "metadata": {},
   "outputs": [
    {
     "name": "stdout",
     "output_type": "stream",
     "text": [
      "(39, 32256)\n"
     ]
    }
   ],
   "source": [
    "# 이미지를 전부 읽어와서 하나로 합친다.\n",
    "train_images = []\n",
    "\n",
    "image = cv2.imread('faces_training/face01.pgm', cv2.IMREAD_GRAYSCALE)\n",
    "train_images.append(image)\n",
    "\n",
    "length, height = image.shape\n",
    "image = image.reshape((1, length * height * 1))\n",
    "\n",
    "for i in range(2,10):\n",
    "    x = cv2.imread(f'faces_training/face0{i}.pgm', cv2.IMREAD_GRAYSCALE)\n",
    "    train_images.append(x)\n",
    "    temp = x.reshape((1, length * height * 1))\n",
    "    image = np.concatenate([image, temp], axis=0)\n",
    "    \n",
    "for i in range(10,40):\n",
    "    x = cv2.imread(f'faces_training/face{i}.pgm', cv2.IMREAD_GRAYSCALE)\n",
    "    train_images.append(x)\n",
    "    temp = x.reshape((1, length * height * 1))\n",
    "    # print(temp.shape)\n",
    "    image = np.concatenate([image, temp], axis=0)\n",
    "\n",
    "# image = np.concatenate([x,y,z], axis=0)\n",
    "print(image.shape)"
   ]
  },
  {
   "cell_type": "code",
   "execution_count": 1,
   "metadata": {},
   "outputs": [
    {
     "name": "stdout",
     "output_type": "stream",
     "text": [
      "######### Step1 #########\n",
      "\n"
     ]
    },
    {
     "ename": "NameError",
     "evalue": "name 'image' is not defined",
     "output_type": "error",
     "traceback": [
      "\u001b[0;31m---------------------------------------------------------------------------\u001b[0m",
      "\u001b[0;31mNameError\u001b[0m                                 Traceback (most recent call last)",
      "\u001b[0;32m<ipython-input-1-4f001a1b5978>\u001b[0m in \u001b[0;36m<module>\u001b[0;34m\u001b[0m\n\u001b[1;32m     30\u001b[0m \u001b[0;34m\u001b[0m\u001b[0m\n\u001b[1;32m     31\u001b[0m \u001b[0mperc\u001b[0m \u001b[0;34m=\u001b[0m \u001b[0;36m0.93\u001b[0m\u001b[0;34m\u001b[0m\u001b[0;34m\u001b[0m\u001b[0m\n\u001b[0;32m---> 32\u001b[0;31m \u001b[0mnumPc\u001b[0m \u001b[0;34m=\u001b[0m \u001b[0mcomputeDimensions\u001b[0m\u001b[0;34m(\u001b[0m\u001b[0mimage\u001b[0m\u001b[0;34m,\u001b[0m \u001b[0mperc\u001b[0m\u001b[0;34m)\u001b[0m\u001b[0;34m\u001b[0m\u001b[0;34m\u001b[0m\u001b[0m\n\u001b[0m\u001b[1;32m     33\u001b[0m \u001b[0;31m# print(f\"nput Percentage: {sys.argv[1]}\")\u001b[0m\u001b[0;34m\u001b[0m\u001b[0;34m\u001b[0m\u001b[0;34m\u001b[0m\u001b[0m\n\u001b[1;32m     34\u001b[0m \u001b[0mprint\u001b[0m\u001b[0;34m(\u001b[0m\u001b[0;34mf\"Input Percentage: {perc}\\n\"\u001b[0m\u001b[0;34m)\u001b[0m\u001b[0;34m\u001b[0m\u001b[0;34m\u001b[0m\u001b[0m\n",
      "\u001b[0;31mNameError\u001b[0m: name 'image' is not defined"
     ]
    }
   ],
   "source": [
    "print(\"######### Step1 #########\\n\")\n",
    "    \n",
    "def computeDimensions(img, percent=0.9):\n",
    "    \n",
    "    # computing eigenvalues and eigenvectors of covariance matrix\n",
    "    matrix = (img - np.mean(img.T, axis=1)).T # subtract the mean (along columns)\n",
    "\n",
    "    [eigvals, eigvec] = np.linalg.eig(np.cov(img))\n",
    "    \n",
    "    whole_nom_of_pc = np.size(eigvec, axis=0)\n",
    "    \n",
    "    eigvals = sorted(eigvals)\n",
    "    eigvals = eigvals[::-1]\n",
    "    \n",
    "    ssum = 0\n",
    "    numPc=0\n",
    "    sumvar = sum(eigvals)\n",
    "        \n",
    "    for i in range(whole_nom_of_pc):\n",
    "        ssum += eigvals[i]\n",
    "        numPc += 1\n",
    "        # print(f\"현재 고유 값{i} : {eigvals[i]}\")\n",
    "        if(ssum/sumvar >= percent):\n",
    "            print(\"확률 : \",ssum/sumvar)\n",
    "            break\n",
    "    \n",
    "    print(\"전체 차원 수 \", whole_nom_of_pc)\n",
    "    print(\"선택된 차원 수 \", numPc)    \n",
    "    return numPc\n",
    "    \n",
    "perc = 0.93\n",
    "numPc = computeDimensions(image, perc)\n",
    "# print(f\"nput Percentage: {sys.argv[1]}\")\n",
    "print(f\"Input Percentage: {perc}\\n\")\n",
    "print(f\"Selected Dimansion : {numPc}\\n\")\n",
    "    "
   ]
  },
  {
   "cell_type": "code",
   "execution_count": null,
   "metadata": {},
   "outputs": [],
   "source": []
  },
  {
   "cell_type": "code",
   "execution_count": 5,
   "metadata": {},
   "outputs": [],
   "source": [
    "# for step2,\n",
    "# reconsturct 함수\n",
    "def princomp(img, pc_limit=0):\n",
    "\n",
    "    # computing eigenvalues and eigenvectors of covariance matrix\n",
    "    matrix = (img - np.mean(img.T, axis=1)).T # subtract the mean (along columns)\n",
    "    \n",
    "    [eigvals,eigvecs] = np.linalg.eig(np.cov(matrix))\n",
    "    \n",
    "    whole_num_pc = np.size(eigvecs,axis=1)\n",
    "\n",
    "    sortEigvals = sorted(eigvals) # 고유값을 정렬한다.\n",
    "    sortEigvals = sortEigvals[::-1]       # in ascending order. 순서를 높은게 앞에 오도록 변경\n",
    "    # sorting eigenvectors according to the sorted eigenvalues\n",
    "    # 고유값이 정렬된 순서에 따라 대응하는 고유벡터들도 정렬한다.\n",
    "    # coeff = coeff[:,sortEigvals]\n",
    "    \n",
    "    # eigvals = eigvals[sortEigvals] # sorting eigenvalues\n",
    "    if pc_limit < whole_num_pc and pc_limit >= 0:\n",
    "        eigvecs = eigvecs[:,range(pc_limit)] # 입력된 pc 개수에 따라 선택한다.\n",
    "        eigvals = eigvals[:pc_limit]\n",
    "    \n",
    "    print(eigvecs.shape)\n",
    "    score = np.dot(eigvecs.T,matrix) # projection of the data in the new space\n",
    "    final = np.dot(eigvecs, score).T + np.mean(img, axis=0)\n",
    "    return eigvecs,score,eigvals, final"
   ]
  },
  {
   "cell_type": "code",
   "execution_count": 7,
   "metadata": {},
   "outputs": [
    {
     "name": "stdout",
     "output_type": "stream",
     "text": [
      "(168, 21)\n",
      "Reconstructed error :19.5209\n",
      "(168, 21)\n",
      "Reconstructed error :12.9484\n",
      "(168, 21)\n",
      "Reconstructed error :20.0204\n",
      "(168, 21)\n",
      "Reconstructed error :10.7292\n",
      "(168, 21)\n",
      "Reconstructed error :24.5289\n",
      "(168, 21)\n",
      "Reconstructed error :21.8178\n",
      "(168, 21)\n",
      "Reconstructed error :12.7641\n",
      "(168, 21)\n",
      "Reconstructed error :16.3334\n",
      "(168, 21)\n",
      "Reconstructed error :14.7948\n",
      "(168, 21)\n",
      "Reconstructed error :25.8667\n",
      "(168, 21)\n",
      "Reconstructed error :15.7\n",
      "(168, 21)\n",
      "Reconstructed error :18.2981\n",
      "(168, 21)\n",
      "Reconstructed error :16.843\n",
      "(168, 21)\n",
      "Reconstructed error :16.2112\n",
      "(168, 21)\n",
      "Reconstructed error :18.4964\n",
      "(168, 21)\n",
      "Reconstructed error :17.4844\n",
      "(168, 21)\n",
      "Reconstructed error :19.0333\n",
      "(168, 21)\n",
      "Reconstructed error :13.5554\n",
      "(168, 21)\n",
      "Reconstructed error :15.194\n",
      "(168, 21)\n",
      "Reconstructed error :10.6316\n",
      "(168, 21)\n",
      "Reconstructed error :20.1433\n",
      "(168, 21)\n",
      "Reconstructed error :26.6685\n",
      "(168, 21)\n",
      "Reconstructed error :17.1372\n",
      "(168, 21)\n",
      "Reconstructed error :13.1527\n",
      "(168, 21)\n",
      "Reconstructed error :19.7814\n",
      "(168, 21)\n",
      "Reconstructed error :18.2865\n",
      "(168, 21)\n",
      "Reconstructed error :21.6823\n",
      "(168, 21)\n",
      "Reconstructed error :19.533\n",
      "(168, 21)\n",
      "Reconstructed error :25.4486\n",
      "(168, 21)\n",
      "Reconstructed error :18.4101\n",
      "(168, 21)\n",
      "Reconstructed error :9.5346\n",
      "(168, 21)\n",
      "Reconstructed error :12.6764\n",
      "(168, 21)\n",
      "Reconstructed error :11.6135\n",
      "(168, 21)\n",
      "Reconstructed error :16.3274\n",
      "(168, 21)\n",
      "Reconstructed error :7.9637\n",
      "(168, 21)\n",
      "Reconstructed error :14.6985\n",
      "(168, 21)\n",
      "Reconstructed error :12.9474\n",
      "(168, 21)\n",
      "Reconstructed error :11.1685\n",
      "(168, 21)\n",
      "Reconstructed error :14.848\n"
     ]
    }
   ],
   "source": [
    "final_list = []\n",
    "\n",
    "for n in range(39):\n",
    "    img = (train_images[n]-np.mean(train_images[n].T,axis=1)) # subtract the mean (along columns)\n",
    "    \n",
    "    eigenvector, score, eigenvalue, final = princomp(train_images[n], numPc)\n",
    "    final_list.append(np.abs(final))\n",
    "\n",
    "    row, col = train_images[n].shape\n",
    "    summ = 0\n",
    "    for i in range(row):\n",
    "        for j in range(col):\n",
    "            s = (train_images[n][i][j]-np.abs(final[i][j]))**2\n",
    "            summ += s # 전체 합.\n",
    "    re_error = summ/(row*col) # 전체합을 n으로 나누고 복소수를 float으로 전환\n",
    "    print(f\"Reconstructed error :{round(re_error, 4)}\") # Reconstruction error 소숫점 4자리까지 보여짐\n",
    "\n",
    "# final_list[0] 은 face01의 리컨스트럭션 이미지다."
   ]
  },
  {
   "cell_type": "code",
   "execution_count": 114,
   "metadata": {},
   "outputs": [
    {
     "name": "stdout",
     "output_type": "stream",
     "text": [
      "39\n",
      "(192, 168)\n",
      "######### Step3 #########\n",
      "test01.pgm ==> face11.pgm\n",
      "test02.pgm ==> face07.pgm\n",
      "test03.pgm ==> face19.pgm\n",
      "test04.pgm ==> face23.pgm\n",
      "test05.pgm ==> face35.pgm\n"
     ]
    }
   ],
   "source": [
    "test01 = cv2.imread('faces_test/test02.pgm', cv2.IMREAD_GRAYSCALE)\n",
    "\n",
    "print(len(final_list))\n",
    "print(final_list[0].shape)\n",
    "print(\"######### Step3 #########\")\n",
    "row, col = test01.shape\n",
    "for a in range(1,6):\n",
    "    distances = []\n",
    "    test01 = cv2.imread(f'faces_test/test0{a}.pgm', cv2.IMREAD_GRAYSCALE)\n",
    "    for n in range(39): \n",
    "        sum_of=0\n",
    "        for r in range(row):\n",
    "            for c in range(col):\n",
    "                sum_of += (test01[r][c]-final_list[n][r][c])**2\n",
    "        distances.append(np.sqrt(sum_of))\n",
    "    found = distances.index(min(distances)) + 1\n",
    "    if found >= 10 : print(f\"test0{a}.pgm ==> face{found}.pgm\")\n",
    "    else : print(f\"test0{a}.pgm ==> face0{found}.pgm\")\n",
    "\n"
   ]
  },
  {
   "cell_type": "code",
   "execution_count": 58,
   "metadata": {},
   "outputs": [
    {
     "name": "stdout",
     "output_type": "stream",
     "text": [
      "39\n",
      "(192, 168)\n",
      "[6030.343623650764, 8686.624613345479, 7049.724783722562, 7785.366708591398, 9736.16659875407, 7583.831652989635, 7211.932436206916, 7130.609198878587, 7304.662758109978, 9392.386461216422, 4843.56766795864, 7771.264560539638, 7239.084839066912, 13902.471520014516, 8648.765431902888, 8677.778649889422, 7474.013556074829, 6748.721731687042, 7238.889155618456, 6597.873976635354, 7959.520382950866, 8794.650621535648, 7458.113454781669, 6586.942161946845, 5798.237197539785, 7645.051846357443, 9762.28068056328, 8843.465330318462, 10763.66166374329, 7881.382364811592, 7154.975568493266, 8894.844744606997, 6953.047814597506, 7156.52144176358, 9405.456996341132, 7560.4912311799235, 6941.568157868283, 6853.243714646259, 8006.818382629144]\n",
      "11\n"
     ]
    }
   ],
   "source": [
    "test01 = cv2.imread('faces_test/test01.pgm', cv2.IMREAD_GRAYSCALE)\n",
    "\n",
    "eigenvector, score, eigenvalue, tf = princomp(test01, numPc)\n",
    "\n",
    "print(len(final_list))\n",
    "print(final_list[0].shape)\n",
    "\n",
    "row, col = test01.shape\n",
    "distances = []\n",
    "for n in range(39): \n",
    "    sum_of=0\n",
    "    for r in range(row):\n",
    "        for c in range(col):\n",
    "            sum_of += (tf[r][c]-final_list[n][r][c])**2\n",
    "    distances.append(np.sqrt(sum_of))\n",
    "\n",
    "print(distances)\n",
    "found = distances.index(min(distances)) + 1\n",
    "print(found)\n",
    "\n"
   ]
  },
  {
   "cell_type": "code",
   "execution_count": null,
   "metadata": {},
   "outputs": [],
   "source": []
  },
  {
   "cell_type": "code",
   "execution_count": null,
   "metadata": {},
   "outputs": [],
   "source": []
  },
  {
   "cell_type": "code",
   "execution_count": null,
   "metadata": {},
   "outputs": [],
   "source": []
  }
 ],
 "metadata": {
  "kernelspec": {
   "display_name": "Python 3",
   "language": "python",
   "name": "python3"
  },
  "language_info": {
   "codemirror_mode": {
    "name": "ipython",
    "version": 3
   },
   "file_extension": ".py",
   "mimetype": "text/x-python",
   "name": "python",
   "nbconvert_exporter": "python",
   "pygments_lexer": "ipython3",
   "version": "3.8.5"
  }
 },
 "nbformat": 4,
 "nbformat_minor": 4
}
