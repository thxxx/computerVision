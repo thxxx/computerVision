{
  "nbformat": 4,
  "nbformat_minor": 0,
  "metadata": {
    "colab": {
      "name": "Project2 Task2.ipynb",
      "provenance": [],
      "collapsed_sections": []
    },
    "kernelspec": {
      "name": "python3",
      "display_name": "Python 3"
    },
    "language_info": {
      "name": "python"
    }
  },
  "cells": [
    {
      "cell_type": "markdown",
      "metadata": {
        "id": "4-VZ7UK9Op6x"
      },
      "source": [
        "## Computer Vision Project 2 Task 2 Back propagation\n",
        "In this task, you will implement the following to train a MLP:\n",
        "1. forward pass\n",
        "2. backward pass\n",
        "3. weights update\n",
        "\n",
        "The MLP has an input layer, one hidden layer, and one output layer.\n",
        "\n",
        "The input layer, the hidden layer, and the output layer has 784 nodes, 128 nodes, and 10 nodes, respectively.\n",
        "\n",
        "You can use only the given sigmoid function as activation function.\n",
        "\n",
        "You cannot use library functions except:\n",
        "* torch.add\n",
        "* torch.mul\n",
        "* torch.transpose\n",
        "* torch.mm"
      ]
    },
    {
      "cell_type": "code",
      "metadata": {
        "id": "ssH-DKB8Ihv0"
      },
      "source": [
        "import torch\n",
        "from torchvision import transforms, datasets\n",
        "from torch.autograd import Variable\n",
        "import torch.nn.functional as F\n",
        "import numpy as np\n",
        "\n",
        "torch.manual_seed(77)"
      ],
      "execution_count": null,
      "outputs": []
    },
    {
      "cell_type": "code",
      "metadata": {
        "id": "gzp8BcKErmnG"
      },
      "source": [
        "def sigmoid(x):\n",
        "  return torch.div(torch.tensor(1.0), torch.add(torch.tensor(1.0), torch.exp(torch.negative(x))))\n",
        "\n",
        "def sigmoid_prime(x):\n",
        "  return torch.mul(sigmoid(x), torch.subtract(torch.tensor(1.0), sigmoid(x)))"
      ],
      "execution_count": 2,
      "outputs": []
    },
    {
      "cell_type": "code",
      "metadata": {
        "id": "X6XRFOzKJHha"
      },
      "source": [
        "train_MNIST = datasets.MNIST(\"MNIST_data/\", train=True, transform=transforms.ToTensor(), download=True)\n",
        "train_loader = torch.utils.data.DataLoader(dataset=train_MNIST,\n",
        "                                          shuffle=True,\n",
        "                                          drop_last=True)\n",
        "dtype = torch.float32\n",
        "D_in, H, D_out = 784, 128, 10"
      ],
      "execution_count": 3,
      "outputs": []
    },
    {
      "cell_type": "markdown",
      "metadata": {
        "id": "t0rfQnmSuOlw"
      },
      "source": [
        "Refer to the following equation to implement forward pass:\n",
        "\n",
        "$$ z_1 = W_1 x + b_1 $$\n",
        "$$ a_1 = \\sigma(z_1) $$\n",
        "$$ z_2 = W_2 x + b_2 $$\n",
        "$$ a_2 = \\sigma(z_2) $$\n"
      ]
    },
    {
      "cell_type": "code",
      "metadata": {
        "id": "-z6SRbEivhpq"
      },
      "source": [
        "# A weight and a bias for input nodes\n",
        "w1 = Variable(torch.randn(D_in, H, dtype=dtype, requires_grad=True)) * np.sqrt(1. / D_in)\n",
        "b1 = Variable(torch.randn(1, H, dtype=dtype, requires_grad=True)) * np.sqrt(1. / D_in)\n",
        "\n",
        "# A weight and a bias for hidden nodes\n",
        "w2 = Variable(torch.randn(H, D_out, dtype=dtype, requires_grad=True)) * np.sqrt(1. / H)\n",
        "b2 = Variable(torch.randn(1, D_out, dtype=dtype, requires_grad=True)) * np.sqrt(1. / H)\n",
        "\n",
        "learning_rate = 0.1\n",
        "for epoch in range(5): \n",
        "  corrects = 0\n",
        "  for i, data in enumerate(train_loader):\n",
        "    x, y = data\n",
        "    x = x.reshape((1,-1))\n",
        "    y_onehot = torch.zeros((1,10))\n",
        "    y_onehot[0,y] += 1\n",
        "\n",
        "\n",
        "    ############################################################################\n",
        "    # TODO: Implement the forward pass for the two-layer net                   #\n",
        "    #                                                                          #\n",
        "    ############################################################################\n",
        "\n",
        "    z1 = \n",
        "    a1 = \n",
        "    z2 = \n",
        "    a2 = \n",
        "\n",
        "    ############################################################################\n",
        "    #                             END OF YOUR CODE                             #\n",
        "    ############################################################################\n",
        "    \n",
        "    diff = a2 - y_onehot\n",
        "    \n",
        "    ############################################################################\n",
        "    # TODO: Implement the backword pass for the two-layer net and update the   #\n",
        "    # parameters                                                               #\n",
        "    ############################################################################\n",
        "\n",
        "    # backward pass\n",
        "    d_z2 = \n",
        "    d_b2 = \n",
        "    d_w2 = \n",
        "\n",
        "    d_a1 = \n",
        "    d_z1 = \n",
        "    d_b1 = \n",
        "    d_w1 = \n",
        "\n",
        "    # weight update\n",
        "    w1 -= \n",
        "    b1 -= \n",
        "    w2 -= \n",
        "    b2 -= \n",
        "\n",
        "    ############################################################################\n",
        "    #                             END OF YOUR CODE                             #\n",
        "    ############################################################################\n",
        "    \n",
        "    if torch.argmax(a2) == y:\n",
        "      corrects += 1\n",
        "\n",
        "    if i % 10000 == 0:\n",
        "      print(\"Epoch {}: {}/{}\".format(epoch+1, i, len(train_MNIST)))\n",
        "      \n",
        "  print(\"Epoch {}, Accuracy: {:.3f}\".format(epoch+1, corrects/len(train_MNIST))) \n",
        "\n"
      ],
      "execution_count": null,
      "outputs": []
    }
  ]
}